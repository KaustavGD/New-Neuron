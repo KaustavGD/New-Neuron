{
 "cells": [
  {
   "cell_type": "markdown",
   "id": "b3574167",
   "metadata": {},
   "source": [
    "1. Print a right angle traingle using \"ineuron"
   ]
  },
  {
   "cell_type": "code",
   "execution_count": 1,
   "id": "4be8c322",
   "metadata": {},
   "outputs": [
    {
     "name": "stdout",
     "output_type": "stream",
     "text": [
      "ineuron \n",
      "\n",
      "ineuron ineuron \n",
      "\n",
      "ineuron ineuron ineuron \n",
      "\n"
     ]
    }
   ],
   "source": [
    "n = 3\n",
    "for i in range(n) :\n",
    "    for j in range(0, i+1) :\n",
    "        print(\"ineuron\", end=\" \")\n",
    "    print(\"\\n\")"
   ]
  },
  {
   "cell_type": "markdown",
   "id": "4a5a9c39",
   "metadata": {},
   "source": [
    "2. Print a star pattern using \"ineuron\""
   ]
  },
  {
   "cell_type": "code",
   "execution_count": 2,
   "id": "31ecf54a",
   "metadata": {},
   "outputs": [
    {
     "name": "stdout",
     "output_type": "stream",
     "text": [
      "      ineuron \n",
      "    ineuron ineuron ineuron \n",
      "  ineuron ineuron ineuron ineuron ineuron \n",
      "    ineuron ineuron ineuron \n",
      "      ineuron \n"
     ]
    }
   ],
   "source": [
    "n= 3\n",
    "for i in range(n-1) :\n",
    "    for j in range(i,n) :\n",
    "        print(\" \",end=\" \")\n",
    "    for j in range(i) :\n",
    "        print(\"ineuron\", end=\" \")\n",
    "    for j in range(i+1) :\n",
    "        print(\"ineuron\", end=\" \")\n",
    "    print()\n",
    "for i in range(n) :\n",
    "    for j in range(i+1) :\n",
    "        print(\" \",end=\" \")\n",
    "    for j in range(i,n-1) :\n",
    "        print(\"ineuron\",end=\" \")\n",
    "    for j in range(i,n) :\n",
    "        print(\"ineuron\",end=\" \")\n",
    "    print()"
   ]
  },
  {
   "cell_type": "markdown",
   "id": "d1fba47c",
   "metadata": {},
   "source": [
    "3. l = [[1,2,3,4], (2,3,4,5,6) , (3,4,5,6,7) , set([23,4,5,45,4,4,5,45,45,4,5]) , {\"k1\" : \"Kaustav\" , \"k2\" : \"ineuron\" , \"k3\" : \"Ghosh\" ,3:6 , 7:8} , [\"ineuron\" ,\"datascience \"]]"
   ]
  },
  {
   "cell_type": "markdown",
   "id": "2cf53cd8",
   "metadata": {},
   "source": [
    "3a. Try to extract all the list entity"
   ]
  },
  {
   "cell_type": "code",
   "execution_count": 3,
   "id": "ea0afac4",
   "metadata": {},
   "outputs": [],
   "source": [
    "l = [[1,2,3,4], (2,3,4,5,6) , (3,4,5,6,7) , set([23,4,5,45,4,4,5,45,45,4,5]) , {\"k1\" : \"Kaustav\" , \"k2\" : \"ineuron\" , \"k3\" : \"Ghosh\" ,3:6 , 7:8} , [\"ineuron\" ,\"datascience \"]]"
   ]
  },
  {
   "cell_type": "code",
   "execution_count": 4,
   "id": "83daf717",
   "metadata": {},
   "outputs": [
    {
     "data": {
      "text/plain": [
       "[[1, 2, 3, 4],\n",
       " (2, 3, 4, 5, 6),\n",
       " (3, 4, 5, 6, 7),\n",
       " {4, 5, 23, 45},\n",
       " {'k1': 'Kaustav', 'k2': 'ineuron', 'k3': 'Ghosh', 3: 6, 7: 8},\n",
       " ['ineuron', 'datascience ']]"
      ]
     },
     "execution_count": 4,
     "metadata": {},
     "output_type": "execute_result"
    }
   ],
   "source": [
    "l"
   ]
  },
  {
   "cell_type": "code",
   "execution_count": 5,
   "id": "fb5064d2",
   "metadata": {},
   "outputs": [
    {
     "name": "stdout",
     "output_type": "stream",
     "text": [
      "[1, 2, 3, 4]\n",
      "['ineuron', 'datascience ']\n"
     ]
    }
   ],
   "source": [
    "for i in l :\n",
    "    if type(i) == list :\n",
    "        print(i)"
   ]
  },
  {
   "cell_type": "markdown",
   "id": "e6ad994a",
   "metadata": {},
   "source": [
    "3b. Try to extract all the dict entities"
   ]
  },
  {
   "cell_type": "code",
   "execution_count": 6,
   "id": "c9468040",
   "metadata": {},
   "outputs": [
    {
     "name": "stdout",
     "output_type": "stream",
     "text": [
      "{'k1': 'Kaustav', 'k2': 'ineuron', 'k3': 'Ghosh', 3: 6, 7: 8}\n"
     ]
    }
   ],
   "source": [
    "for i in l :\n",
    "    if type(i)== dict :\n",
    "        print(i)"
   ]
  },
  {
   "cell_type": "markdown",
   "id": "d37f0ce4",
   "metadata": {},
   "source": [
    "3c. Try to extract all the tuples entites"
   ]
  },
  {
   "cell_type": "code",
   "execution_count": 7,
   "id": "e66fb931",
   "metadata": {},
   "outputs": [
    {
     "name": "stdout",
     "output_type": "stream",
     "text": [
      "(2, 3, 4, 5, 6)\n",
      "(3, 4, 5, 6, 7)\n"
     ]
    }
   ],
   "source": [
    "for i in l :\n",
    "    if type(i) == tuple :\n",
    "        print(i)"
   ]
  },
  {
   "cell_type": "markdown",
   "id": "e5988b32",
   "metadata": {},
   "source": [
    "3d. Try to extract all the numerical data it may be part of dict key and values"
   ]
  },
  {
   "cell_type": "code",
   "execution_count": 8,
   "id": "1a442c2e",
   "metadata": {},
   "outputs": [],
   "source": [
    "l1=[]\n",
    "for i in l :\n",
    "    if type(i)== list or type(i)==set or type(i)==tuple :\n",
    "        for j in i :\n",
    "            if type(j)==int :\n",
    "                l1.append(j)\n",
    "    if type(i)== dict :\n",
    "        for k in i.items() :\n",
    "            for m in k :\n",
    "                if type(m) == k :\n",
    "                    l1.append(m)"
   ]
  },
  {
   "cell_type": "code",
   "execution_count": 9,
   "id": "a16163a3",
   "metadata": {},
   "outputs": [
    {
     "data": {
      "text/plain": [
       "[1, 2, 3, 4, 2, 3, 4, 5, 6, 3, 4, 5, 6, 7, 45, 4, 5, 23]"
      ]
     },
     "execution_count": 9,
     "metadata": {},
     "output_type": "execute_result"
    }
   ],
   "source": [
    "l1"
   ]
  },
  {
   "cell_type": "markdown",
   "id": "5441c4ac",
   "metadata": {},
   "source": [
    "3e. Try to give the summation of all the numerical data"
   ]
  },
  {
   "cell_type": "code",
   "execution_count": 10,
   "id": "61d7ce76",
   "metadata": {},
   "outputs": [
    {
     "name": "stdout",
     "output_type": "stream",
     "text": [
      "132\n"
     ]
    }
   ],
   "source": [
    "l1=[]\n",
    "for i in l :\n",
    "    if type(i)== list or type(i)==set or type(i)==tuple :\n",
    "        for j in i :\n",
    "            if type(j)==int :\n",
    "                l1.append(j)\n",
    "    if type(i)== dict :\n",
    "        for k in i.items() :\n",
    "            for m in k :\n",
    "                if type(m) == k :\n",
    "                    l1.append(m)\n",
    "        print(sum(l1))"
   ]
  },
  {
   "cell_type": "markdown",
   "id": "0835babe",
   "metadata": {},
   "source": [
    "3f. Try to filter out all the odd values out all the numeric data which is part of a list"
   ]
  },
  {
   "cell_type": "code",
   "execution_count": 12,
   "id": "9ded8804",
   "metadata": {},
   "outputs": [
    {
     "name": "stdout",
     "output_type": "stream",
     "text": [
      "1\n",
      "3\n",
      "3\n",
      "5\n",
      "3\n",
      "5\n",
      "7\n",
      "45\n",
      "5\n",
      "23\n"
     ]
    }
   ],
   "source": [
    "for i in l1 :\n",
    "    if i % 2 != 0 :\n",
    "        print(i)"
   ]
  },
  {
   "cell_type": "markdown",
   "id": "25641cc7",
   "metadata": {},
   "source": [
    "3g. Try to extract \"ineuron\" out of this data"
   ]
  },
  {
   "cell_type": "code",
   "execution_count": 13,
   "id": "ffb57f50",
   "metadata": {},
   "outputs": [
    {
     "data": {
      "text/plain": [
       "[[1, 2, 3, 4],\n",
       " (2, 3, 4, 5, 6),\n",
       " (3, 4, 5, 6, 7),\n",
       " {4, 5, 23, 45},\n",
       " {'k1': 'Kaustav', 'k2': 'ineuron', 'k3': 'Ghosh', 3: 6, 7: 8},\n",
       " ['ineuron', 'datascience ']]"
      ]
     },
     "execution_count": 13,
     "metadata": {},
     "output_type": "execute_result"
    }
   ],
   "source": [
    "l"
   ]
  },
  {
   "cell_type": "code",
   "execution_count": 18,
   "id": "d252d6d3",
   "metadata": {},
   "outputs": [
    {
     "name": "stdout",
     "output_type": "stream",
     "text": [
      "ineuron\n",
      "ineuron\n"
     ]
    }
   ],
   "source": [
    "for i in l :\n",
    "    if type(i)==list :\n",
    "        for j in i :\n",
    "            if j == \"ineuron\" :\n",
    "                print(j)\n",
    "for i in l :\n",
    "    if type(i)==dict :\n",
    "        for j in i.values() :\n",
    "            if j ==\"ineuron\" :\n",
    "                print(j)"
   ]
  },
  {
   "cell_type": "markdown",
   "id": "da2f1983",
   "metadata": {},
   "source": [
    "3h. Try to find out a number of occurance of all the data"
   ]
  },
  {
   "cell_type": "code",
   "execution_count": 19,
   "id": "7ea1330f",
   "metadata": {},
   "outputs": [
    {
     "name": "stdout",
     "output_type": "stream",
     "text": [
      "1 : 1\n",
      "2 : 2\n",
      "3 : 3\n",
      "4 : 4\n",
      "5 : 3\n",
      "6 : 2\n",
      "7 : 1\n",
      "k3 : 1\n",
      "Kaustav : 1\n",
      "k2 : 1\n",
      "ineuron : 2\n",
      "Ghosh : 1\n",
      "45 : 1\n",
      "k1 : 1\n",
      "23 : 1\n",
      "datascience  : 1\n"
     ]
    }
   ],
   "source": [
    "l1=[]\n",
    "for i in l :\n",
    "    if type(i)== list or type(i)==set or type(i)==tuple :\n",
    "        for j in i :\n",
    "            if type(j)==int or type(j)== str :\n",
    "                l1.append(j)\n",
    "    if type(i)== dict :\n",
    "        for k in i.items() :\n",
    "            for m in k :\n",
    "                if type(m) == k or type(m)==str :\n",
    "                    l1.append(m)\n",
    "for i in set(l1) :\n",
    "    print(i , \":\", l1.count(i))"
   ]
  },
  {
   "cell_type": "markdown",
   "id": "cee672ea",
   "metadata": {},
   "source": [
    "3i. Try to find out the number of keys in dict element"
   ]
  },
  {
   "cell_type": "code",
   "execution_count": 32,
   "id": "15e98ff9",
   "metadata": {},
   "outputs": [
    {
     "name": "stdout",
     "output_type": "stream",
     "text": [
      "5\n"
     ]
    }
   ],
   "source": [
    "l2=[]\n",
    "for i in l :\n",
    "    if type(i)== dict :\n",
    "        for j in i.keys() :\n",
    "            l2.append(j)\n",
    "        print(len(l2))"
   ]
  },
  {
   "cell_type": "markdown",
   "id": "c6c15754",
   "metadata": {},
   "source": [
    "3j. Try to filter out all the string data"
   ]
  },
  {
   "cell_type": "code",
   "execution_count": 33,
   "id": "340ae4fa",
   "metadata": {},
   "outputs": [
    {
     "data": {
      "text/plain": [
       "[[1, 2, 3, 4],\n",
       " (2, 3, 4, 5, 6),\n",
       " (3, 4, 5, 6, 7),\n",
       " {4, 5, 23, 45},\n",
       " {'k1': 'Kaustav', 'k2': 'ineuron', 'k3': 'Ghosh', 3: 6, 7: 8},\n",
       " ['ineuron', 'datascience ']]"
      ]
     },
     "execution_count": 33,
     "metadata": {},
     "output_type": "execute_result"
    }
   ],
   "source": [
    "l"
   ]
  },
  {
   "cell_type": "code",
   "execution_count": 47,
   "id": "b2aa5aac",
   "metadata": {},
   "outputs": [
    {
     "name": "stdout",
     "output_type": "stream",
     "text": [
      "k1\n",
      "Kaustav\n",
      "k2\n",
      "ineuron\n",
      "k3\n",
      "Ghosh\n",
      "ineuron\n",
      "datascience \n"
     ]
    }
   ],
   "source": [
    "l1=[]\n",
    "for i in l :\n",
    "    if type(i)== list or type(i)==set or type(i)==tuple :\n",
    "        for j in i :\n",
    "            if type(j)==int or type(j)== str :\n",
    "                l1.append(j)\n",
    "    if type(i)== dict :\n",
    "        for k in i.items() :\n",
    "            for m in k :\n",
    "                if type(m) == k or type(m)==str :\n",
    "                    l1.append(m)\n",
    "for i in l1 :\n",
    "    if type(i)==str :\n",
    "        print(i)"
   ]
  },
  {
   "cell_type": "markdown",
   "id": "b4d5b56c",
   "metadata": {},
   "source": [
    "3k. Try to find the alphanum in data"
   ]
  },
  {
   "cell_type": "code",
   "execution_count": 49,
   "id": "46aa95fb",
   "metadata": {
    "scrolled": true
   },
   "outputs": [
    {
     "name": "stdout",
     "output_type": "stream",
     "text": [
      "k1\n",
      "Kaustav\n",
      "k2\n",
      "ineuron\n",
      "k3\n",
      "Ghosh\n",
      "ineuron\n"
     ]
    }
   ],
   "source": [
    "for i in l1 :\n",
    "    if type(i)==str :\n",
    "        if i.isalnum() :\n",
    "            print(i)"
   ]
  },
  {
   "cell_type": "markdown",
   "id": "a101ba86",
   "metadata": {},
   "source": [
    "3l. Try to find out the multiplication of the all the numeric value in the individual collection inside the dataset"
   ]
  },
  {
   "cell_type": "code",
   "execution_count": 4,
   "id": "9d30efd0",
   "metadata": {},
   "outputs": [],
   "source": [
    "l = [[1,2,3,4], (2,3,4,5,6) , (3,4,5,6,7) , set([23,4,5,45,4,4,5,45,45,4,5]) , {\"k1\" : \"Kaustav\" , \"k2\" : \"ineuron\" , \"k3\" : \"Ghosh\" ,3:6 , 7:8} , [\"ineuron\" ,\"datascience \"]]"
   ]
  },
  {
   "cell_type": "code",
   "execution_count": 5,
   "id": "f2859029",
   "metadata": {},
   "outputs": [
    {
     "data": {
      "text/plain": [
       "[[1, 2, 3, 4],\n",
       " (2, 3, 4, 5, 6),\n",
       " (3, 4, 5, 6, 7),\n",
       " {4, 5, 23, 45},\n",
       " {'k1': 'Kaustav', 'k2': 'ineuron', 'k3': 'Ghosh', 3: 6, 7: 8},\n",
       " ['ineuron', 'datascience ']]"
      ]
     },
     "execution_count": 5,
     "metadata": {},
     "output_type": "execute_result"
    }
   ],
   "source": [
    "l"
   ]
  },
  {
   "cell_type": "code",
   "execution_count": 17,
   "id": "01365ea1",
   "metadata": {
    "scrolled": true
   },
   "outputs": [
    {
     "name": "stdout",
     "output_type": "stream",
     "text": [
      "24\n",
      "720\n",
      "2520\n",
      "20700\n",
      "1\n"
     ]
    }
   ],
   "source": [
    "for i in l :\n",
    "    k = 1\n",
    "    if type(i)==list or type(i)==set or type(i)==tuple :\n",
    "        for j in i :\n",
    "            if type(j) == int :\n",
    "                k = k * j \n",
    "        print(k)"
   ]
  },
  {
   "cell_type": "markdown",
   "id": "11a1ca6f",
   "metadata": {},
   "source": [
    "3m. Try to unwrape all the collection inside collection and a create a flat list"
   ]
  },
  {
   "cell_type": "code",
   "execution_count": 22,
   "id": "f8015dca",
   "metadata": {},
   "outputs": [],
   "source": [
    "l1=[]\n",
    "for i in l :\n",
    "    if type(i)== list or type(i)==set or type(i)==tuple :\n",
    "        for j in i :\n",
    "            if type(j)==int or type(j)== str :\n",
    "                l1.append(j)\n",
    "    if type(i)== dict :\n",
    "        for k in i.items() :\n",
    "            for m in k :\n",
    "                if type(m) == k or type(m)==str :\n",
    "                    l1.append(m)"
   ]
  },
  {
   "cell_type": "code",
   "execution_count": 23,
   "id": "78802186",
   "metadata": {},
   "outputs": [
    {
     "data": {
      "text/plain": [
       "[1,\n",
       " 2,\n",
       " 3,\n",
       " 4,\n",
       " 2,\n",
       " 3,\n",
       " 4,\n",
       " 5,\n",
       " 6,\n",
       " 3,\n",
       " 4,\n",
       " 5,\n",
       " 6,\n",
       " 7,\n",
       " 45,\n",
       " 4,\n",
       " 5,\n",
       " 23,\n",
       " 'k1',\n",
       " 'Kaustav',\n",
       " 'k2',\n",
       " 'ineuron',\n",
       " 'k3',\n",
       " 'Ghosh',\n",
       " 'ineuron',\n",
       " 'datascience ']"
      ]
     },
     "execution_count": 23,
     "metadata": {},
     "output_type": "execute_result"
    }
   ],
   "source": [
    "l1"
   ]
  }
 ],
 "metadata": {
  "kernelspec": {
   "display_name": "Python 3 (ipykernel)",
   "language": "python",
   "name": "python3"
  },
  "language_info": {
   "codemirror_mode": {
    "name": "ipython",
    "version": 3
   },
   "file_extension": ".py",
   "mimetype": "text/x-python",
   "name": "python",
   "nbconvert_exporter": "python",
   "pygments_lexer": "ipython3",
   "version": "3.9.7"
  }
 },
 "nbformat": 4,
 "nbformat_minor": 5
}
